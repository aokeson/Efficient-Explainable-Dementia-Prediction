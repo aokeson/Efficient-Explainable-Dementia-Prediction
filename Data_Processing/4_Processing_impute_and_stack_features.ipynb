{
 "cells": [
  {
   "cell_type": "code",
   "execution_count": 100,
   "metadata": {
    "collapsed": true
   },
   "outputs": [],
   "source": [
    "import numpy as np\n",
    "import pandas as pd\n",
    "from sklearn.linear_model import LogisticRegression\n",
    "import numpy as np\n",
    "from sklearn.metrics import average_precision_score\n",
    "from sklearn.metrics import roc_curve\n",
    "from sklearn.metrics import roc_auc_score\n",
    "from sklearn.metrics import precision_recall_curve\n",
    "import h5py\n",
    "import os\n",
    "import pickle\n",
    "from matplotlib import pyplot as plt\n",
    "%matplotlib inline\n",
    "import gc"
   ]
  },
  {
   "cell_type": "markdown",
   "metadata": {},
   "source": [
    "### Read in data"
   ]
  },
  {
   "cell_type": "code",
   "execution_count": 101,
   "metadata": {
    "collapsed": true
   },
   "outputs": [],
   "source": [
    "orig_folder =\"../DATA/PROCESSED/standardized/\"\n",
    "new_folder = \"../DATA/PROCESSED/standardized_stacked_imputed/\""
   ]
  },
  {
   "cell_type": "code",
   "execution_count": 102,
   "metadata": {
    "collapsed": true
   },
   "outputs": [],
   "source": [
    "years = 2 # how many years in the past to collect data from\n",
    "file_suffix = str(years)+\"yrprev_within3\"\n",
    "DATA = pd.read_csv(os.path.join(orig_folder,\"merged_kept_data_%s.csv\"%file_suffix), index_col=0)\n",
    "DATA_all = pd.read_csv(os.path.join(orig_folder,\"merged_data_all_%s.csv\"%file_suffix), index_col=0).drop_duplicates()"
   ]
  },
  {
   "cell_type": "code",
   "execution_count": 107,
   "metadata": {
    "scrolled": true
   },
   "outputs": [
    {
     "name": "stdout",
     "output_type": "stream",
     "text": [
      "apoe_genotype__22.0 0.014720421838954192\n",
      "apoe_genotype__23.0 0.014720421838954192\n",
      "apoe_genotype__24.0 0.014720421838954192\n",
      "apoe_genotype__33.0 0.014720421838954192\n",
      "apoe_genotype__34.0 0.014720421838954192\n",
      "apoe_genotype__44.0 0.014720421838954192\n",
      "race__1.0 0.000329561682961661\n",
      "race__2.0 0.000329561682961661\n",
      "race__3.0 0.000329561682961661\n",
      "race__6.0 0.000329561682961661\n",
      "cts_animals 0.0017576623091288587\n",
      "cts_bname 0.03174777545864001\n",
      "cts_catflu 0.0017576623091288587\n",
      "cts_db 0.0045040096671427\n",
      "cts_delay 0.023728441173239592\n",
      "cts_df 0.002856201252334395\n",
      "cts_doperf 0.011534658903658134\n",
      "cts_ebdr 0.005932110293309898\n",
      "cts_ebmt 0.004394155772822147\n",
      "cts_fruits 0.0021970778864110734\n",
      "cts_idea 0.002306931780731627\n",
      "cts_lopair 0.040975502581566514\n",
      "cts_mmse30 0.020872239920905197\n",
      "cts_nccrtd 0.0405360870042843\n",
      "cts_pmat 0.0554762166318796\n",
      "cts_pmsub 0.04229374931341316\n",
      "cts_read_nart 0.03998681753268153\n",
      "cts_sdmt 0.04317258046797759\n",
      "cts_story 0.02273975612435461\n",
      "cts_stroop_cname 0.6451719213446117\n",
      "cts_stroop_wread 0.6457211908162145\n",
      "cts_wli 0.023618587278919037\n",
      "cts_wlii 0.023618587278919037\n",
      "cts_wliii 0.02306931780731627\n",
      "med_con_sum_cum 0.020432824343622983\n",
      "vasc_3dis_sum 0.020432824343622983\n",
      "vasc_risks_sum 0.011534658903658134\n",
      "educ 0.001318246731846644\n",
      "cogn_ep 0.0014281006261671976\n",
      "cogn_po 0.03800944743491157\n",
      "cogn_ps 0.03735032406898824\n",
      "cogn_se 0.0014281006261671976\n",
      "cogn_wo 0.0024167856750521807\n",
      "cogn_global 0.0012083928375260903\n",
      "hypertension_cum 0.020432824343622983\n",
      "cancer_cum 0.020432824343622983\n",
      "diabetes_sr_rx 0.020213116554981873\n",
      "dm_cum 0.011534658903658134\n",
      "headinjrloc_cum 0.020432824343622983\n",
      "thyroid_cum 0.020432824343622983\n",
      "claudication_cum 0.020432824343622983\n",
      "heart_cum 0.020432824343622983\n",
      "stroke_cum 0.008239042074041525\n"
     ]
    }
   ],
   "source": [
    "for col in DATA.columns[4:]:\n",
    "    if np.mean(np.isnan(DATA[col])) > 0:\n",
    "        print(col, np.mean(np.isnan(DATA[col])))"
   ]
  },
  {
   "cell_type": "markdown",
   "metadata": {},
   "source": [
    "### Impute missing values (mean for continuous, mode for binary)"
   ]
  },
  {
   "cell_type": "code",
   "execution_count": 108,
   "metadata": {
    "collapsed": true
   },
   "outputs": [],
   "source": [
    "# IF VARIABLE IS MISSING, USE MEAN IMPUTATION FOR CONTINUOUS VALS, MODE IMPUTATION FOR BINARY VALS:\n",
    "# these can stay as is\n",
    "binary = DATA.columns[[len(np.unique(DATA[c].dropna())) == 2 for c in DATA.columns]]\n",
    "\n",
    "impute_vals = {}\n",
    "\n",
    "\n",
    "for col in DATA.columns[4:]:\n",
    "    if col in binary:\n",
    "        impute_vals[col] = DATA[col].mode().values[0]\n",
    "    else:\n",
    "        impute_vals[col] = DATA[col].mean()\n",
    "\n",
    "    if np.mean(np.isnan(DATA[col])) > 0:\n",
    "        if col in binary:\n",
    "            # FILL WITH MOST COMMON:\n",
    "            DATA[col].fillna(DATA[col].mode().values[0], inplace=True)\n",
    "        else:\n",
    "            DATA[col].fillna(DATA[col].mean(), inplace=True)\n"
   ]
  },
  {
   "cell_type": "code",
   "execution_count": 111,
   "metadata": {
    "collapsed": true
   },
   "outputs": [],
   "source": [
    "feature_names = DATA.columns[6:]"
   ]
  },
  {
   "cell_type": "code",
   "execution_count": 112,
   "metadata": {},
   "outputs": [
    {
     "data": {
      "text/plain": [
       "Index(['apoe_genotype__22.0', 'apoe_genotype__23.0', 'apoe_genotype__24.0',\n",
       "       'apoe_genotype__33.0', 'apoe_genotype__34.0', 'apoe_genotype__44.0',\n",
       "       'race__1.0', 'race__2.0', 'race__3.0', 'race__6.0', 'dcfdx__1.0',\n",
       "       'dcfdx__2.0', 'dcfdx__3.0', 'cts_animals', 'cts_bname', 'cts_catflu',\n",
       "       'cts_db', 'cts_delay', 'cts_df', 'cts_doperf', 'cts_ebdr', 'cts_ebmt',\n",
       "       'cts_fruits', 'cts_idea', 'cts_lopair', 'cts_mmse30', 'cts_nccrtd',\n",
       "       'cts_pmat', 'cts_pmsub', 'cts_read_nart', 'cts_sdmt', 'cts_story',\n",
       "       'cts_stroop_cname', 'cts_stroop_wread', 'cts_wli', 'cts_wlii',\n",
       "       'cts_wliii', 'med_con_sum_cum', 'vasc_3dis_sum', 'vasc_risks_sum',\n",
       "       'age_at_visit', 'educ', 'cogn_ep', 'cogn_po', 'cogn_ps', 'cogn_se',\n",
       "       'cogn_wo', 'cogn_global', 'hypertension_cum', 'cancer_cum',\n",
       "       'diabetes_sr_rx', 'dm_cum', 'headinjrloc_cum', 'thyroid_cum',\n",
       "       'claudication_cum', 'heart_cum', 'stroke_cum', 'msex', 'spanish'],\n",
       "      dtype='object')"
      ]
     },
     "execution_count": 112,
     "metadata": {},
     "output_type": "execute_result"
    }
   ],
   "source": [
    "feature_names"
   ]
  },
  {
   "cell_type": "markdown",
   "metadata": {},
   "source": [
    "### Stack matrices for each year (required for LSTM)"
   ]
  },
  {
   "cell_type": "code",
   "execution_count": 113,
   "metadata": {
    "scrolled": true
   },
   "outputs": [
    {
     "name": "stdout",
     "output_type": "stream",
     "text": [
      "0 of 9103\n"
     ]
    },
    {
     "name": "stderr",
     "output_type": "stream",
     "text": [
      "C:\\Users\\nbbwang\\Anaconda2\\envs\\py36\\lib\\site-packages\\ipykernel_launcher.py:14: SettingWithCopyWarning: \n",
      "A value is trying to be set on a copy of a slice from a DataFrame.\n",
      "Try using .loc[row_indexer,col_indexer] = value instead\n",
      "\n",
      "See the caveats in the documentation: http://pandas.pydata.org/pandas-docs/stable/user_guide/indexing.html#returning-a-view-versus-a-copy\n",
      "  \n"
     ]
    },
    {
     "name": "stdout",
     "output_type": "stream",
     "text": [
      "1000 of 9103\n",
      "2000 of 9103\n",
      "3000 of 9103\n",
      "4000 of 9103\n",
      "5000 of 9103\n",
      "6000 of 9103\n",
      "7000 of 9103\n",
      "8000 of 9103\n",
      "9000 of 9103\n"
     ]
    }
   ],
   "source": [
    "ALL_SAMPLES = DATA[[\"projid\", \"fu_year\", \"onset_label_time\", \"onset_label_time_binary\"]].values\n",
    "\n",
    "ALL_FEATURES_TIME = np.zeros([len(DATA), years+1, len(feature_names)])\n",
    "for i,row in DATA.iterrows():\n",
    "    if i%1000==0:\n",
    "        print(\"%i of %i\"%(i, len(DATA)))\n",
    "\n",
    "    for j,t in enumerate(range(years, 0, -1)):\n",
    "        pid_df = DATA_all[DATA_all[\"projid\"]==row[\"projid\"]]\n",
    "        \n",
    "        new_rows = pid_df[pid_df[\"fu_year\"].isin(row[\"fu_year\"]-np.arange(1,years+1))]\n",
    "\n",
    "        for col in new_rows.columns[new_rows.isnull().any()].tolist():\n",
    "            new_rows[col] = new_rows[col].fillna(impute_vals[col])\n",
    "        ALL_FEATURES_TIME[i,:-1,:] = new_rows[feature_names].values\n",
    "        \n",
    "    ALL_FEATURES_TIME[i,-1,:]=(row[feature_names].values.flatten())"
   ]
  },
  {
   "cell_type": "code",
   "execution_count": 114,
   "metadata": {},
   "outputs": [
    {
     "data": {
      "text/plain": [
       "(9103, 3, 59)"
      ]
     },
     "execution_count": 114,
     "metadata": {},
     "output_type": "execute_result"
    }
   ],
   "source": [
    "ALL_FEATURES_TIME.shape"
   ]
  },
  {
   "cell_type": "code",
   "execution_count": 116,
   "metadata": {
    "collapsed": true
   },
   "outputs": [],
   "source": [
    "import h5py\n",
    "\n",
    "if not os.path.isdir(new_folder):\n",
    "    os.makedirs(new_folder)\n",
    "\n",
    "with h5py.File(os.path.join(new_folder,\"%s.h5\"%file_suffix), 'w') as hf:\n",
    "    hf.create_dataset(\"features\", data=ALL_FEATURES_TIME)\n",
    "    hf.create_dataset(\"samples\", data=ALL_SAMPLES)\n"
   ]
  }
 ],
 "metadata": {
  "kernelspec": {
   "display_name": "Python 3.6",
   "language": "python",
   "name": "py36"
  },
  "language_info": {
   "codemirror_mode": {
    "name": "ipython",
    "version": 3
   },
   "file_extension": ".py",
   "mimetype": "text/x-python",
   "name": "python",
   "nbconvert_exporter": "python",
   "pygments_lexer": "ipython3",
   "version": "3.6.3"
  }
 },
 "nbformat": 4,
 "nbformat_minor": 2
}
